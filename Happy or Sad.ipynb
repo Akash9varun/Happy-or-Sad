{
 "cells": [
  {
   "cell_type": "markdown",
   "metadata": {
    "colab_type": "text",
    "id": "UncprnB0ymAE"
   },
   "source": [
    "Below is code with a link to a happy or sad dataset which contains 80 images, 40 happy and 40 sad. \n",
    "Create a convolutional neural network that trains to 100% accuracy on these images,  which cancels training upon hitting training accuracy of >.999\n",
    "\n",
    "Hint -- it will work best with 3 convolutional layers."
   ]
  },
  {
   "cell_type": "code",
   "execution_count": 8,
   "metadata": {},
   "outputs": [],
   "source": [
    "import tensorflow as tf\n",
    "import os\n",
    "import zipfile\n",
    "from os import path, getcwd, chdir\n",
    "\n",
    "# DO NOT CHANGE THE LINE BELOW. If you are developing in a local\n",
    "# environment, then grab happy-or-sad.zip from the Coursera Jupyter Notebook\n",
    "# and place it inside a local folder and edit the path to that location\n",
    "path = f\"{getcwd()}/../tmp2/happy-or-sad.zip\"\n",
    "\n",
    "zip_ref = zipfile.ZipFile(path, 'r')\n",
    "zip_ref.extractall(\"/tmp/h-or-s\")\n",
    "zip_ref.close()"
   ]
  },
  {
   "cell_type": "code",
   "execution_count": 12,
   "metadata": {},
   "outputs": [],
   "source": [
    "# GRADED FUNCTION: train_happy_sad_model\n",
    "def train_happy_sad_model():\n",
    "    # Please write your code only where you are indicated.\n",
    "    # please do not remove # model fitting inline comments.\n",
    "\n",
    "    DESIRED_ACCURACY = 0.999\n",
    "\n",
    "    class myCallback(tf.keras.callbacks.Callback):\n",
    "         def on_epoch_end(self, epochs, logs={}) :\n",
    "                if(logs.get('acc') >= DESIRED_ACCURACY) :\n",
    "                    print('\\nReached 99.9% accuracy so cancelling training!')\n",
    "                    self.model.stop_training = True\n",
    "\n",
    "    callbacks = myCallback()\n",
    "    \n",
    "    # This Code Block should Define and Compile the Model. Please assume the images are 150 X 150 in your implementation.\n",
    "    model = tf.keras.models.Sequential([\n",
    "        tf.keras.layers.Conv2D(16,(3,3), activation='relu', input_shape=(100,100,3)),\n",
    "        tf.keras.layers.MaxPooling2D(2,2),\n",
    "        tf.keras.layers.Conv2D(32,(3,3), activation='relu'),\n",
    "        tf.keras.layers.MaxPooling2D(2,2),\n",
    "        tf.keras.layers.Conv2D(64,(3,3), activation='relu'),\n",
    "        tf.keras.layers.Flatten(),\n",
    "        tf.keras.layers.Dense(512, activation='relu'),\n",
    "        tf.keras.layers.Dense(1, activation='sigmoid'),\n",
    "    ])\n",
    "\n",
    "    from tensorflow.keras.optimizers import RMSprop\n",
    "\n",
    "    model.compile(loss='binary_crossentropy', optimizer='RMSprop', metrics=['acc'])\n",
    "        \n",
    "\n",
    "    # This code block should create an instance of an ImageDataGenerator called train_datagen \n",
    "    # And a train_generator by calling train_datagen.flow_from_directory\n",
    "\n",
    "    from tensorflow.keras.preprocessing.image import ImageDataGenerator\n",
    "\n",
    "    train_datagen = ImageDataGenerator(rescale = 1/255)\n",
    "\n",
    "    # Please use a target_size of 150 X 150.\n",
    "    train_generator = train_datagen.flow_from_directory(\n",
    "        '/tmp/h-or-s/', \n",
    "        target_size = (100,100),\n",
    "        batch_size = 80,\n",
    "        class_mode='binary')\n",
    "    # Expected output: 'Found 80 images belonging to 2 classes'\n",
    "\n",
    "    # This code block should call model.fit_generator and train for\n",
    "    # a number of epochs.\n",
    "    # model fitting\n",
    "    history = model.fit_generator(\n",
    "        train_generator,\n",
    "        steps_per_epoch=1,  \n",
    "        epochs=20,\n",
    "        verbose=1, \n",
    "        callbacks=[callbacks])\n",
    "    # model fitting\n",
    "    return history.history['acc'][-1]"
   ]
  },
  {
   "cell_type": "code",
   "execution_count": 13,
   "metadata": {},
   "outputs": [
    {
     "name": "stderr",
     "output_type": "stream",
     "text": [
      "WARNING: Logging before flag parsing goes to stderr.\n",
      "W0823 13:29:48.807776 140424570173248 deprecation.py:506] From /usr/local/lib/python3.6/dist-packages/tensorflow/python/ops/init_ops.py:1251: calling VarianceScaling.__init__ (from tensorflow.python.ops.init_ops) with dtype is deprecated and will be removed in a future version.\n",
      "Instructions for updating:\n",
      "Call initializer instance with the dtype argument instead of passing it to the constructor\n",
      "W0823 13:29:49.243703 140424570173248 deprecation.py:323] From /usr/local/lib/python3.6/dist-packages/tensorflow/python/ops/nn_impl.py:180: add_dispatch_support.<locals>.wrapper (from tensorflow.python.ops.array_ops) is deprecated and will be removed in a future version.\n",
      "Instructions for updating:\n",
      "Use tf.where in 2.0, which has the same broadcast rule as np.where\n"
     ]
    },
    {
     "name": "stdout",
     "output_type": "stream",
     "text": [
      "Found 80 images belonging to 2 classes.\n",
      "Epoch 1/20\n",
      "1/1 [==============================] - 6s 6s/step - loss: 0.6934 - acc: 0.5000\n",
      "Epoch 2/20\n",
      "1/1 [==============================] - 0s 14ms/step - loss: 8.4851 - acc: 0.5000\n",
      "Epoch 3/20\n",
      "1/1 [==============================] - 0s 302ms/step - loss: 2.2864 - acc: 0.5000\n",
      "Epoch 4/20\n",
      "1/1 [==============================] - 0s 298ms/step - loss: 0.7326 - acc: 0.5000\n",
      "Epoch 5/20\n",
      "1/1 [==============================] - 0s 301ms/step - loss: 0.6722 - acc: 0.5000\n",
      "Epoch 6/20\n",
      "1/1 [==============================] - 0s 304ms/step - loss: 0.6477 - acc: 0.5000\n",
      "Epoch 7/20\n",
      "1/1 [==============================] - 0s 229ms/step - loss: 0.6173 - acc: 0.5000\n",
      "Epoch 8/20\n",
      "1/1 [==============================] - 0s 292ms/step - loss: 0.5832 - acc: 0.6000\n",
      "Epoch 9/20\n",
      "1/1 [==============================] - 0s 298ms/step - loss: 0.5741 - acc: 0.5625\n",
      "Epoch 10/20\n",
      "1/1 [==============================] - 0s 301ms/step - loss: 0.6391 - acc: 0.5000\n",
      "Epoch 11/20\n",
      "1/1 [==============================] - 0s 296ms/step - loss: 0.6933 - acc: 0.5000\n",
      "Epoch 12/20\n",
      "1/1 [==============================] - 0s 236ms/step - loss: 0.5390 - acc: 0.9250\n",
      "Epoch 13/20\n",
      "1/1 [==============================] - 0s 362ms/step - loss: 0.4574 - acc: 0.9125\n",
      "Epoch 14/20\n",
      "1/1 [==============================] - 0s 304ms/step - loss: 0.4051 - acc: 0.9125\n",
      "Epoch 15/20\n",
      "1/1 [==============================] - 0s 218ms/step - loss: 0.3922 - acc: 0.7500\n",
      "Epoch 16/20\n",
      "1/1 [==============================] - 0s 227ms/step - loss: 0.4287 - acc: 0.8125\n",
      "Epoch 17/20\n",
      "1/1 [==============================] - 0s 297ms/step - loss: 0.6841 - acc: 0.5000\n",
      "Epoch 18/20\n",
      "1/1 [==============================] - 0s 299ms/step - loss: 0.3914 - acc: 0.9375\n",
      "Epoch 19/20\n",
      "1/1 [==============================] - 0s 299ms/step - loss: 0.2617 - acc: 0.9500\n",
      "Epoch 20/20\n",
      "1/1 [==============================] - 0s 294ms/step - loss: 0.1873 - acc: 0.9750\n"
     ]
    },
    {
     "data": {
      "text/plain": [
       "0.975"
      ]
     },
     "execution_count": 13,
     "metadata": {},
     "output_type": "execute_result"
    }
   ],
   "source": [
    "# The Expected output: \"Reached 99.9% accuracy so cancelling training!\"\"\n",
    "train_happy_sad_model()"
   ]
  },
  {
   "cell_type": "code",
   "execution_count": 4,
   "metadata": {},
   "outputs": [],
   "source": [
    "# Now click the 'Submit Assignment' button above.\n",
    "# Once that is complete, please run the following two cells to save your work and close the notebook"
   ]
  },
  {
   "cell_type": "code",
   "execution_count": null,
   "metadata": {},
   "outputs": [],
   "source": [
    "%%javascript\n",
    "<!-- Save the notebook -->\n",
    "IPython.notebook.save_checkpoint();"
   ]
  },
  {
   "cell_type": "code",
   "execution_count": null,
   "metadata": {},
   "outputs": [],
   "source": [
    "%%javascript\n",
    "IPython.notebook.session.delete();\n",
    "window.onbeforeunload = null\n",
    "setTimeout(function() { window.close(); }, 1000);"
   ]
  }
 ],
 "metadata": {
  "coursera": {
   "course_slug": "introduction-tensorflow",
   "graded_item_id": "1kAlw",
   "launcher_item_id": "PNLYD"
  },
  "kernelspec": {
   "display_name": "Python 3",
   "language": "python",
   "name": "python3"
  },
  "language_info": {
   "codemirror_mode": {
    "name": "ipython",
    "version": 3
   },
   "file_extension": ".py",
   "mimetype": "text/x-python",
   "name": "python",
   "nbconvert_exporter": "python",
   "pygments_lexer": "ipython3",
   "version": "3.6.8"
  }
 },
 "nbformat": 4,
 "nbformat_minor": 1
}
